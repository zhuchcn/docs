{
 "cells": [
  {
   "cell_type": "markdown",
   "metadata": {},
   "source": [
    "## 16S Amplicon Demultiplex Workflow"
   ]
  },
  {
   "cell_type": "markdown",
   "metadata": {},
   "source": [
    "* Chenghao Zhu\n",
    "* 2018/10/29\n",
    "* chhzhu@ucdavis.edu"
   ]
  },
  {
   "cell_type": "markdown",
   "metadata": {},
   "source": [
    "This workflow covers the basic steps of processing 16S sequencing data, including demultiplex, filtering, and trimming primers for the raw fastq files. The demultiplexed data is then ready for otu picking. This workflow is designated for the old sequencing method from David [Miles lab](http://mills.ucdavis.edu/), which only use barcodea on the forward primer (that means the reverse (downstream) primer is not barcoded). \n",
    "\n",
    "In this workflow, the raw paired end read fastq files were first demultiplexed using the barcode to pick up reads that have barcode in the begining of R1. Then the unmatched reads (unmatched_R1.fastq, unmatched_R2.fastq) were demultiplexed using barcode as reverse barcode, to pick up reads that have barcode in the begining of R2. The command line tool [**fastq_multx**](https://github.com/brwnj/fastq-multx) is used to demultiplex the sequencing reads without merging then (one example that merge while demultiplexing is [PEAR](https://sco.h-its.org/exelixis/web/software/pear/doc.html)). The demultiplexed reads (sample01_R1.fastq, sample-1_R2.fastq, ...) were then filtered using a python script, to remove reads that don't have the primers in the right place (most likely generated because of errors). Primers were then cut off from each end by specifying the lengths of priimers, and the 2 fastq files that belong to the same sample were concatenated together. In the very last step, FastQC is used to check the quality of reads, to determine the length to use in [**DADA2**](https://benjjneb.github.io/dada2/tutorial.html).\n",
    "\n",
    "This workflow requires around 40G disk space. The actual disk space might vary depands on the sample size. Make sure your hvae at lease **50G** of empty disk space before you start.\n",
    "\n",
    "This workflow is writen in Jupyter notebook. If you want to run directly in shell command, please remove the \"!\" in front of each command. The \"!\" is a trick in Jupyter Notebook to exacute shell commands.\n",
    "\n",
    "\n",
    "**Prerequisite tools**: \n",
    "\n",
    "- [**fastq-multx**](https://github.com/brwnj/fastq-multx):\n",
    "        Can be installed using the following command:\n",
    "        \n",
    "        $ conda install -c bioconda fastq-multx\n",
    "\n",
    "- [**paired_end_reads_filter_by_primer.py**](https://zhuchcn.github.io/docs/workflows/demultx/paired_end_reads_filter_by_primer.py):\n",
    "        This script has to be put under the same directory as your jupyter notebook. Ask Trevor (chhzhu@ucdavis.edu) for this script.\n",
    "        Biopython is also required to run this script successfully. It can be installed using:\n",
    "        \n",
    "        $ conda install bio\n",
    "\n",
    "- [**fastqc**](http://www.bioinformatics.babraham.ac.uk/projects/fastqc/):\n",
    "        Is you are using brew, you can use:\n",
    "        brew install fastqc\n",
    "        If you can't install fastqc, contact Trevor (chhzhu@ucdavis.edu)\n",
    "\n",
    "- [**fastx-toolkit**](http://hannonlab.cshl.edu/fastx_toolkit/):\n",
    "        Can be installed using conda:\n",
    "        \n",
    "        $ conda install -c bioconda fastx-toolkit"
   ]
  },
  {
   "cell_type": "markdown",
   "metadata": {},
   "source": [
    "### Step 1. Demultiplex the forward"
   ]
  },
  {
   "cell_type": "markdown",
   "metadata": {},
   "source": [
    "16S sequencing method mixes samples, sometimes from different studies, into a pool that they call it \"library\", after PCR amplication. Samples are labeled using unique 6-digit (sometimes 8-digit) barcode previous to pooling. And those barcodes are what used to match the sequencing reads to its co-responding sample ID. And this process is called *demultiplexing*.\n",
    "\n",
    "Many popular demultiplexing tools like [PEAR](https://sco.h-its.org/exelixis/web/software/pear/doc.html) merges the forward and reversed reads together while demultiplexing. A consequence of that is that the quality scores are all removed. The popular otu clustering algorithm [DADA2](https://benjjneb.github.io/dada2/tutorial.html) however uses the quality scores to remove noises. \n",
    "\n",
    "So here we use the command line tool [fastq-multx](https://github.com/brwnj/fastq-multx) to demultiplx and keep the forward and reversed read separated. Read the fastq-multx documentation for more information."
   ]
  },
  {
   "cell_type": "markdown",
   "metadata": {},
   "source": [
    "<div class=\"alert alert-block alert-warning\">\n",
    "<b>Warning:</b> This command generates around 17G fastq files for 40 samples. Make sure you enough disk space..\n",
    "</div>"
   ]
  },
  {
   "cell_type": "code",
   "execution_count": null,
   "metadata": {},
   "outputs": [],
   "source": [
    "!fastq-multx -h"
   ]
  },
  {
   "cell_type": "code",
   "execution_count": null,
   "metadata": {
    "collapsed": true
   },
   "outputs": [],
   "source": [
    "!mkdir -p demultx_R1\n",
    "!mkdir -p demultx_R2"
   ]
  },
  {
   "cell_type": "code",
   "execution_count": null,
   "metadata": {
    "collapsed": true
   },
   "outputs": [],
   "source": [
    "!fastq-multx -B 2017_AZ_barcodes_FF.txt -m 0 -x -b\\\n",
    "            FFUBS-Run_S1_L001_R1_001.fastq \\\n",
    "            FFUBS-Run_S1_L001_R2_001.fastq \\\n",
    "            -o demultx_R1/%_R1.fastq \\\n",
    "            -o demultx_R1/%_R2.fastq"
   ]
  },
  {
   "cell_type": "markdown",
   "metadata": {},
   "source": [
    "### Step 2. Demultiplex the reversed"
   ]
  },
  {
   "cell_type": "markdown",
   "metadata": {},
   "source": [
    "<div class=\"alert alert-block alert-warning\">\n",
    "<b>Warning:</b> This command geneerates additional 21G fastq files for 40 samples.\n",
    "</div>"
   ]
  },
  {
   "cell_type": "code",
   "execution_count": null,
   "metadata": {
    "collapsed": true
   },
   "outputs": [],
   "source": [
    "!fastq-multx -B /2017_AZ_barcodes_FF.txt -m 0 -x -b\\\n",
    "            demultx_R1/unmatched_R2.fastq \\\n",
    "            demultx_R1/unmatched_R1.fastq \\\n",
    "            -o demultx_R2/%_R2.fastq \\\n",
    "            -o demultx_R2/%_R1.fastq"
   ]
  },
  {
   "cell_type": "markdown",
   "metadata": {},
   "source": [
    "<div class=\"alert alert-block alert-success\">\n",
    "<b>Tip:</b> The raw fastq fiels can be deleted now to save your disk space. As well as the unmatched_R1.fastq and unmatched_R2.fastq.\n",
    "</div>"
   ]
  },
  {
   "cell_type": "markdown",
   "metadata": {},
   "source": [
    "### Step 3. Filter"
   ]
  },
  {
   "cell_type": "markdown",
   "metadata": {},
   "source": [
    "Although step 1 and 2 pick up sequences that only starts with the barcodes for each sample. However, some sequences that have barcodes at the begining, don't have primer right after, or don' have the reverse primer at the begining of the other read in the pair. The purpose of this step is filter out those reads, and only keep the reads that not only have barcodes, but also have both forward and reverse primer at the correct location of the sequences."
   ]
  },
  {
   "cell_type": "markdown",
   "metadata": {},
   "source": [
    "<div class=\"alert alert-block alert-warning\">\n",
    "<b>Warning:</b> Make sure the paired_end_reads_filter_by_primer.py file is at the correct place.\n",
    "</div>"
   ]
  },
  {
   "cell_type": "code",
   "execution_count": null,
   "metadata": {
    "collapsed": true
   },
   "outputs": [],
   "source": [
    "!mkdir -p filt_demultx_R1\n",
    "!mkdir -p filt_demultx_R2"
   ]
  },
  {
   "cell_type": "code",
   "execution_count": null,
   "metadata": {
    "collapsed": true
   },
   "outputs": [],
   "source": [
    "!ls demultx_R1/FF*_R1.fastq | cut -f2 -d '/' |cut -f1 -d '.' >filt_R1.txt\n",
    "!ls demultx_R1/FF*_R2.fastq | cut -f2 -d '/' |cut -f1 -d '.' >filt_R2.txt"
   ]
  },
  {
   "cell_type": "code",
   "execution_count": null,
   "metadata": {
    "collapsed": true
   },
   "outputs": [],
   "source": [
    "!python paired_end_reads_filter_by_primer.py \\\n",
    "    --input-forward-list filt_R1.txt \\\n",
    "    --input-reverse-list filt_R2.txt \\\n",
    "    --input-path demultx_R1 \\\n",
    "    --output-path filt_demultx_R1 \\\n",
    "    --barcodes 2017_AZ_barcodes_FF.txt \\\n",
    "    --forward-primer GTGTGCCAGCMGCCGCGGTAA \\\n",
    "    --reverse-primer GGACTACNVGGGTWTCTAAT"
   ]
  },
  {
   "cell_type": "code",
   "execution_count": null,
   "metadata": {
    "collapsed": true
   },
   "outputs": [],
   "source": [
    "!python paired_end_reads_filter_by_primer.py \\\n",
    "    --input-forward-list filt_R2.txt \\\n",
    "    --input-reverse-list filt_R1.txt \\\n",
    "    --input-path demultx_R2 \\\n",
    "    --output-path filt_demultx_R2 \\\n",
    "    --barcodes 2017_AZ_barcodes_FF.txt \\\n",
    "    --forward-primer GTGTGCCAGCMGCCGCGGTAA \\\n",
    "    --reverse-primer GGACTACNVGGGTWTCTAAT"
   ]
  },
  {
   "cell_type": "markdown",
   "metadata": {},
   "source": [
    "### Step 4. Trim off primers"
   ]
  },
  {
   "cell_type": "code",
   "execution_count": null,
   "metadata": {
    "collapsed": true
   },
   "outputs": [],
   "source": [
    "!ls filt_demultx_R1/FF*_R1.filt.fastq | cut -f2 -d '/' |cut -f1 -d '.' >trim_R1.txt\n",
    "!ls filt_demultx_R1/FF*_R2.filt.fastq | cut -f2 -d '/' |cut -f1 -d '.' >trim_R2.txt"
   ]
  },
  {
   "cell_type": "code",
   "execution_count": null,
   "metadata": {
    "collapsed": true
   },
   "outputs": [],
   "source": [
    "!mkdir trim_demultx_R1\n",
    "!mkdir trim_demultx_R2"
   ]
  },
  {
   "cell_type": "code",
   "execution_count": null,
   "metadata": {
    "collapsed": true
   },
   "outputs": [],
   "source": [
    "%%bash\n",
    "while read trim\n",
    "do\n",
    "        fastx_trimmer -f 30 -i filt_demultx_R1/$trim.filt.fastq -o trim_demultx_R1/$trim.trim.fastq\n",
    "done < trim_R1.txt"
   ]
  },
  {
   "cell_type": "code",
   "execution_count": null,
   "metadata": {
    "collapsed": true
   },
   "outputs": [],
   "source": [
    "%%bash\n",
    "while read trim\n",
    "do\n",
    "        fastx_trimmer -f 21 -i filt_demultx_R1/$trim.filt.fastq -o trim_demultx_R1/$trim.trim.fastq\n",
    "done < trim_R2.txt"
   ]
  },
  {
   "cell_type": "code",
   "execution_count": null,
   "metadata": {
    "collapsed": true
   },
   "outputs": [],
   "source": [
    "%%bash\n",
    "while read trim\n",
    "do\n",
    "        fastx_trimmer -f 21 -i filt_demultx_R2/$trim.filt.fastq -o trim_demultx_R2/$trim.trim.fastq\n",
    "done < trim_R1.txt"
   ]
  },
  {
   "cell_type": "code",
   "execution_count": null,
   "metadata": {
    "collapsed": true
   },
   "outputs": [],
   "source": [
    "%%bash\n",
    "while read trim\n",
    "do\n",
    "        fastx_trimmer -f 30 -i filt_demultx_R2/$trim.filt.fastq -o trim_demultx_R2/$trim.trim.fastq\n",
    "done < trim_R2.txt"
   ]
  },
  {
   "cell_type": "markdown",
   "metadata": {},
   "source": [
    "### Step 5. Concatenate"
   ]
  },
  {
   "cell_type": "markdown",
   "metadata": {},
   "source": [
    "This step is only "
   ]
  },
  {
   "cell_type": "code",
   "execution_count": null,
   "metadata": {
    "collapsed": true
   },
   "outputs": [],
   "source": [
    "!mkdir -p alldemultx"
   ]
  },
  {
   "cell_type": "code",
   "execution_count": null,
   "metadata": {
    "collapsed": true
   },
   "outputs": [],
   "source": [
    "!ls trim_demultx_R1/FF*.fastq | cut -f2 -d '/' |cut -f1 -d '_' > sample_list.txt"
   ]
  },
  {
   "cell_type": "code",
   "execution_count": null,
   "metadata": {
    "collapsed": true
   },
   "outputs": [],
   "source": [
    "%%bash\n",
    "while read id\n",
    "do\n",
    "        cat trim_demultx_R1/${id}_R1.trim.fastq trim_demultx_R2/${id}_R1.trim.fastq > alldemultx/${id}_R\n",
    "done < sample_list.txt"
   ]
  },
  {
   "cell_type": "code",
   "execution_count": null,
   "metadata": {
    "collapsed": true
   },
   "outputs": [],
   "source": [
    "%%bash\n",
    "while read id\n",
    "do\n",
    "        cat trim_demultx_R1/${id}_R2.trim.fastq trim_demultx_R2/${id}_R2.trim.fastq > alldemultx/${id}_R\n",
    "done < sample_list.txt"
   ]
  },
  {
   "cell_type": "markdown",
   "metadata": {},
   "source": [
    "### Step 6. FastQC"
   ]
  },
  {
   "cell_type": "code",
   "execution_count": null,
   "metadata": {
    "collapsed": true
   },
   "outputs": [],
   "source": [
    "!mkdir -p fastqc"
   ]
  },
  {
   "cell_type": "code",
   "execution_count": null,
   "metadata": {
    "collapsed": true
   },
   "outputs": [],
   "source": [
    "!cat alldemultx/FF*_R1.combo.fastq > R1.all.fastq\n",
    "!cat alldemultx/FF*_R2.combo.fastq > R2.all.fastq"
   ]
  },
  {
   "cell_type": "code",
   "execution_count": null,
   "metadata": {
    "collapsed": true
   },
   "outputs": [],
   "source": [
    "!fastqc R1.all.fastq R2.all.fastq -o fastqc"
   ]
  },
  {
   "cell_type": "code",
   "execution_count": null,
   "metadata": {
    "collapsed": true
   },
   "outputs": [],
   "source": [
    "!rm R1.all.fastq\n",
    "!rm R2.all.fastq"
   ]
  },
  {
   "cell_type": "code",
   "execution_count": null,
   "metadata": {
    "collapsed": true
   },
   "outputs": [],
   "source": [
    "!ls fastqc"
   ]
  }
 ],
 "metadata": {
  "kernelspec": {
   "display_name": "Python [default]",
   "language": "python",
   "name": "python3"
  },
  "language_info": {
   "codemirror_mode": {
    "name": "ipython",
    "version": 3
   },
   "file_extension": ".py",
   "mimetype": "text/x-python",
   "name": "python",
   "nbconvert_exporter": "python",
   "pygments_lexer": "ipython3",
   "version": "3.6.4"
  }
 },
 "nbformat": 4,
 "nbformat_minor": 2
}
